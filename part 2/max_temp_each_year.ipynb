{
 "cells": [
  {
   "cell_type": "markdown",
   "metadata": {},
   "source": [
    "# Max Temp Each Year for Each Cell\n",
    "\n",
    "Take inspiration from:\n",
    "* heatwave_analysis_by_cell.ipynb\n",
    "* historical_analysis_tasmax.ipynb\n",
    "\n",
    "For each cell\n",
    "take each year, find the max value, store that\n",
    "\n",
    "Output will be index of cells, followed by one column of max temp that year. \n",
    "\n",
    "tasmax_max_temp_each_year.csv\n",
    "\n",
    "tasmax - all cells and all days temp\n",
    "tasmax_thresh - the threshold values per cell (overwhich it is classed as heatwave)\n",
    "tasmax_heatwaves - all days that are heatwaves per cell\n",
    "\n",
    "analysis_by_region - need tasmax_max_temp"
   ]
  },
  {
   "cell_type": "code",
   "execution_count": 1,
   "metadata": {
    "ExecuteTime": {
     "end_time": "2020-07-06T14:27:00.133157Z",
     "start_time": "2020-07-06T14:26:59.311193Z"
    }
   },
   "outputs": [],
   "source": [
    "import pandas as pd\n",
    "import numpy as np\n",
    "import matplotlib.pyplot as plt"
   ]
  },
  {
   "cell_type": "code",
   "execution_count": 2,
   "metadata": {
    "ExecuteTime": {
     "end_time": "2020-07-06T14:31:49.923092Z",
     "start_time": "2020-07-06T14:31:49.703039Z"
    }
   },
   "outputs": [
    {
     "name": "stdout",
     "output_type": "stream",
     "text": [
      "heatwave_analysis_by_cell.ipynb    max_temp_each_year.ipynb\r\n",
      "heatwave_analysis_by_region.ipynb  meta_plots.ipynb\r\n",
      "heatwave_meta_analysis.ipynb       regions_matched.csv\r\n"
     ]
    }
   ],
   "source": [
    "ls"
   ]
  }
 ],
 "metadata": {
  "kernelspec": {
   "display_name": "Python [conda env:root] *",
   "language": "python",
   "name": "conda-root-py"
  },
  "language_info": {
   "codemirror_mode": {
    "name": "ipython",
    "version": 3
   },
   "file_extension": ".py",
   "mimetype": "text/x-python",
   "name": "python",
   "nbconvert_exporter": "python",
   "pygments_lexer": "ipython3",
   "version": "3.7.7"
  },
  "toc": {
   "base_numbering": 1,
   "nav_menu": {},
   "number_sections": true,
   "sideBar": true,
   "skip_h1_title": false,
   "title_cell": "Table of Contents",
   "title_sidebar": "Contents",
   "toc_cell": false,
   "toc_position": {},
   "toc_section_display": true,
   "toc_window_display": false
  },
  "varInspector": {
   "cols": {
    "lenName": 16,
    "lenType": 16,
    "lenVar": 40
   },
   "kernels_config": {
    "python": {
     "delete_cmd_postfix": "",
     "delete_cmd_prefix": "del ",
     "library": "var_list.py",
     "varRefreshCmd": "print(var_dic_list())"
    },
    "r": {
     "delete_cmd_postfix": ") ",
     "delete_cmd_prefix": "rm(",
     "library": "var_list.r",
     "varRefreshCmd": "cat(var_dic_list()) "
    }
   },
   "types_to_exclude": [
    "module",
    "function",
    "builtin_function_or_method",
    "instance",
    "_Feature"
   ],
   "window_display": false
  }
 },
 "nbformat": 4,
 "nbformat_minor": 4
}
