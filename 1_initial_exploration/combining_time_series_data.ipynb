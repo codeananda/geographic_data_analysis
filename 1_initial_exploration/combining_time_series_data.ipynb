{
 "cells": [
  {
   "cell_type": "markdown",
   "metadata": {},
   "source": [
    "# Combining Time Series Data\n",
    "\n",
    "The goal:\n",
    "1. One large data sheet that has individual cells along the stop, times along the side and all the data\n",
    "\n",
    "Need to add in population as well?"
   ]
  },
  {
   "cell_type": "code",
   "execution_count": 4,
   "metadata": {
    "ExecuteTime": {
     "end_time": "2020-04-15T16:43:40.889374Z",
     "start_time": "2020-04-15T16:43:40.886968Z"
    }
   },
   "outputs": [],
   "source": [
    "from pathlib import Path\n",
    "\n",
    "# Path example\n",
    "g = Path(\"Cells_tasday\", \"lon=-1.25 lat=7.25\", \"20060101-20101231.csv\")"
   ]
  },
  {
   "cell_type": "code",
   "execution_count": 18,
   "metadata": {
    "ExecuteTime": {
     "end_time": "2020-04-15T16:57:18.404488Z",
     "start_time": "2020-04-15T16:57:18.266835Z"
    }
   },
   "outputs": [
    {
     "data": {
      "text/plain": [
       "3650"
      ]
     },
     "execution_count": 18,
     "metadata": {},
     "output_type": "execute_result"
    }
   ],
   "source": [
    "# Get all csv files inside a folder in the direcotry Cells_tasday\n",
    "csv_files = list(Path(\"Cells_tasday\").glob(\"*/*.csv\"))\n",
    "len(csv_files)"
   ]
  },
  {
   "cell_type": "code",
   "execution_count": 29,
   "metadata": {
    "ExecuteTime": {
     "end_time": "2020-04-15T17:01:37.889543Z",
     "start_time": "2020-04-15T17:01:37.884657Z"
    }
   },
   "outputs": [
    {
     "data": {
      "text/plain": [
       "-1.25"
      ]
     },
     "execution_count": 29,
     "metadata": {},
     "output_type": "execute_result"
    }
   ],
   "source": [
    "string = \"lon=-1.25 lat=7.25\"\n",
    "space = string.find(\" \")\n",
    "lon = float(string[4:space])\n",
    "float(lon)"
   ]
  },
  {
   "cell_type": "code",
   "execution_count": 30,
   "metadata": {
    "ExecuteTime": {
     "end_time": "2020-04-15T17:01:41.660192Z",
     "start_time": "2020-04-15T17:01:41.655638Z"
    }
   },
   "outputs": [
    {
     "data": {
      "text/plain": [
       "7.25"
      ]
     },
     "execution_count": 30,
     "metadata": {},
     "output_type": "execute_result"
    }
   ],
   "source": [
    "lat = float(string[space + 5 :])\n",
    "float(lat)"
   ]
  },
  {
   "cell_type": "code",
   "execution_count": 79,
   "metadata": {
    "ExecuteTime": {
     "end_time": "2020-04-15T17:28:14.573686Z",
     "start_time": "2020-04-15T17:28:14.570459Z"
    }
   },
   "outputs": [],
   "source": [
    "def get_lon_lat(string):\n",
    "    \"\"\"\n",
    "    Given a string of the form 'lon=X lat=Y' for some floats X and Y each to 2 decimal places,\n",
    "    return the tuple (X, Y)\n",
    "    \"\"\"\n",
    "    space = string.find(\" \")\n",
    "    lon = float(string[4:space])\n",
    "    lat = float(string[space + 5 :])\n",
    "    return lon, lat"
   ]
  },
  {
   "cell_type": "code",
   "execution_count": 80,
   "metadata": {
    "ExecuteTime": {
     "end_time": "2020-04-15T17:28:16.046349Z",
     "start_time": "2020-04-15T17:28:16.043414Z"
    }
   },
   "outputs": [
    {
     "name": "stdout",
     "output_type": "stream",
     "text": [
      "-1.25 7.25\n"
     ]
    }
   ],
   "source": [
    "lon, lat = get_lon_lat(\"lon=-1.25 lat=7.25\")\n",
    "print(lon, lat)"
   ]
  },
  {
   "cell_type": "code",
   "execution_count": 133,
   "metadata": {
    "ExecuteTime": {
     "end_time": "2020-04-15T17:50:59.700426Z",
     "start_time": "2020-04-15T17:50:59.685242Z"
    }
   },
   "outputs": [
    {
     "data": {
      "text/plain": [
       "(-1.25, 7.25)"
      ]
     },
     "execution_count": 133,
     "metadata": {},
     "output_type": "execute_result"
    }
   ],
   "source": [
    "g = Path(\"Cells_tasday\", \"lon=-1.25 lat=7.25\", \"20060101-20101231.csv\")\n",
    "df = pd.read_csv(g, parse_dates=[0], names=[\"date\", \"temperature\"], skiprows=1)\n",
    "df.head()\n",
    "\n",
    "f = Path(\"Cells_tasday\", \"lon=-1.25 lat=53.75\", \"20060101-20101231.csv\")\n",
    "get_lon_lat(g.parent.parts[-1])"
   ]
  },
  {
   "cell_type": "code",
   "execution_count": 134,
   "metadata": {
    "ExecuteTime": {
     "end_time": "2020-04-15T17:51:02.660022Z",
     "start_time": "2020-04-15T17:51:02.646019Z"
    }
   },
   "outputs": [
    {
     "data": {
      "text/html": [
       "<div>\n",
       "<style scoped>\n",
       "    .dataframe tbody tr th:only-of-type {\n",
       "        vertical-align: middle;\n",
       "    }\n",
       "\n",
       "    .dataframe tbody tr th {\n",
       "        vertical-align: top;\n",
       "    }\n",
       "\n",
       "    .dataframe thead th {\n",
       "        text-align: right;\n",
       "    }\n",
       "</style>\n",
       "<table border=\"1\" class=\"dataframe\">\n",
       "  <thead>\n",
       "    <tr style=\"text-align: right;\">\n",
       "      <th></th>\n",
       "      <th>date</th>\n",
       "      <th>temperature</th>\n",
       "      <th>lon</th>\n",
       "      <th>lat</th>\n",
       "    </tr>\n",
       "  </thead>\n",
       "  <tbody>\n",
       "    <tr>\n",
       "      <th>0</th>\n",
       "      <td>2006-01-01</td>\n",
       "      <td>299.798615</td>\n",
       "      <td>-1.25</td>\n",
       "      <td>7.25</td>\n",
       "    </tr>\n",
       "    <tr>\n",
       "      <th>1</th>\n",
       "      <td>2006-01-02</td>\n",
       "      <td>300.162659</td>\n",
       "      <td>-1.25</td>\n",
       "      <td>7.25</td>\n",
       "    </tr>\n",
       "    <tr>\n",
       "      <th>2</th>\n",
       "      <td>2006-01-03</td>\n",
       "      <td>299.891144</td>\n",
       "      <td>-1.25</td>\n",
       "      <td>7.25</td>\n",
       "    </tr>\n",
       "    <tr>\n",
       "      <th>3</th>\n",
       "      <td>2006-01-04</td>\n",
       "      <td>300.282806</td>\n",
       "      <td>-1.25</td>\n",
       "      <td>7.25</td>\n",
       "    </tr>\n",
       "    <tr>\n",
       "      <th>4</th>\n",
       "      <td>2006-01-05</td>\n",
       "      <td>300.742340</td>\n",
       "      <td>-1.25</td>\n",
       "      <td>7.25</td>\n",
       "    </tr>\n",
       "  </tbody>\n",
       "</table>\n",
       "</div>"
      ],
      "text/plain": [
       "        date  temperature   lon   lat\n",
       "0 2006-01-01   299.798615 -1.25  7.25\n",
       "1 2006-01-02   300.162659 -1.25  7.25\n",
       "2 2006-01-03   299.891144 -1.25  7.25\n",
       "3 2006-01-04   300.282806 -1.25  7.25\n",
       "4 2006-01-05   300.742340 -1.25  7.25"
      ]
     },
     "execution_count": 134,
     "metadata": {},
     "output_type": "execute_result"
    }
   ],
   "source": [
    "lon, lat = get_lon_lat(g.parent.parts[-1])\n",
    "df[\"lon\"] = pd.Series([lon for i in range(len(df))])\n",
    "df[\"lat\"] = pd.Series([lat for i in range(len(df))])\n",
    "df.head()"
   ]
  },
  {
   "cell_type": "code",
   "execution_count": 99,
   "metadata": {
    "ExecuteTime": {
     "end_time": "2020-04-15T17:33:13.168188Z",
     "start_time": "2020-04-15T17:33:13.157707Z"
    },
    "collapsed": true
   },
   "outputs": [
    {
     "ename": "KeyError",
     "evalue": "\"None of ['lon', 'lat', 'date'] are in the columns\"",
     "output_type": "error",
     "traceback": [
      "\u001b[0;31m---------------------------------------------------------------------------\u001b[0m",
      "\u001b[0;31mKeyError\u001b[0m                                  Traceback (most recent call last)",
      "\u001b[0;32m<ipython-input-99-26b309c4a782>\u001b[0m in \u001b[0;36m<module>\u001b[0;34m\u001b[0m\n\u001b[0;32m----> 1\u001b[0;31m \u001b[0mdf\u001b[0m \u001b[0;34m=\u001b[0m \u001b[0mdf\u001b[0m\u001b[0;34m.\u001b[0m\u001b[0mset_index\u001b[0m\u001b[0;34m(\u001b[0m\u001b[0;34m[\u001b[0m\u001b[0;34m'lon'\u001b[0m\u001b[0;34m,\u001b[0m \u001b[0;34m'lat'\u001b[0m\u001b[0;34m,\u001b[0m \u001b[0;34m'date'\u001b[0m\u001b[0;34m]\u001b[0m\u001b[0;34m)\u001b[0m\u001b[0;34m\u001b[0m\u001b[0;34m\u001b[0m\u001b[0m\n\u001b[0m\u001b[1;32m      2\u001b[0m \u001b[0mdf\u001b[0m\u001b[0;34m.\u001b[0m\u001b[0mhead\u001b[0m\u001b[0;34m(\u001b[0m\u001b[0;34m)\u001b[0m\u001b[0;34m\u001b[0m\u001b[0;34m\u001b[0m\u001b[0m\n\u001b[1;32m      3\u001b[0m \u001b[0mdf\u001b[0m\u001b[0;34m.\u001b[0m\u001b[0minfo\u001b[0m\u001b[0;34m(\u001b[0m\u001b[0;34m)\u001b[0m\u001b[0;34m\u001b[0m\u001b[0;34m\u001b[0m\u001b[0m\n",
      "\u001b[0;32m~/opt/anaconda3/envs/thresh/lib/python3.7/site-packages/pandas/core/frame.py\u001b[0m in \u001b[0;36mset_index\u001b[0;34m(self, keys, drop, append, inplace, verify_integrity)\u001b[0m\n\u001b[1;32m   4301\u001b[0m \u001b[0;34m\u001b[0m\u001b[0m\n\u001b[1;32m   4302\u001b[0m         \u001b[0;32mif\u001b[0m \u001b[0mmissing\u001b[0m\u001b[0;34m:\u001b[0m\u001b[0;34m\u001b[0m\u001b[0;34m\u001b[0m\u001b[0m\n\u001b[0;32m-> 4303\u001b[0;31m             \u001b[0;32mraise\u001b[0m \u001b[0mKeyError\u001b[0m\u001b[0;34m(\u001b[0m\u001b[0;34mf\"None of {missing} are in the columns\"\u001b[0m\u001b[0;34m)\u001b[0m\u001b[0;34m\u001b[0m\u001b[0;34m\u001b[0m\u001b[0m\n\u001b[0m\u001b[1;32m   4304\u001b[0m \u001b[0;34m\u001b[0m\u001b[0m\n\u001b[1;32m   4305\u001b[0m         \u001b[0;32mif\u001b[0m \u001b[0minplace\u001b[0m\u001b[0;34m:\u001b[0m\u001b[0;34m\u001b[0m\u001b[0;34m\u001b[0m\u001b[0m\n",
      "\u001b[0;31mKeyError\u001b[0m: \"None of ['lon', 'lat', 'date'] are in the columns\""
     ]
    }
   ],
   "source": [
    "df = df.set_index([\"lon\", \"lat\", \"date\"])"
   ]
  },
  {
   "cell_type": "code",
   "execution_count": 135,
   "metadata": {
    "ExecuteTime": {
     "end_time": "2020-04-15T17:51:06.169258Z",
     "start_time": "2020-04-15T17:51:06.152431Z"
    }
   },
   "outputs": [
    {
     "data": {
      "text/html": [
       "<div>\n",
       "<style scoped>\n",
       "    .dataframe tbody tr th:only-of-type {\n",
       "        vertical-align: middle;\n",
       "    }\n",
       "\n",
       "    .dataframe tbody tr th {\n",
       "        vertical-align: top;\n",
       "    }\n",
       "\n",
       "    .dataframe thead th {\n",
       "        text-align: right;\n",
       "    }\n",
       "</style>\n",
       "<table border=\"1\" class=\"dataframe\">\n",
       "  <thead>\n",
       "    <tr style=\"text-align: right;\">\n",
       "      <th></th>\n",
       "      <th>lon</th>\n",
       "      <th>lat</th>\n",
       "      <th>date</th>\n",
       "      <th>temperature</th>\n",
       "    </tr>\n",
       "  </thead>\n",
       "  <tbody>\n",
       "    <tr>\n",
       "      <th>0</th>\n",
       "      <td>-1.25</td>\n",
       "      <td>7.25</td>\n",
       "      <td>2006-01-01</td>\n",
       "      <td>299.798615</td>\n",
       "    </tr>\n",
       "    <tr>\n",
       "      <th>1</th>\n",
       "      <td>-1.25</td>\n",
       "      <td>7.25</td>\n",
       "      <td>2006-01-02</td>\n",
       "      <td>300.162659</td>\n",
       "    </tr>\n",
       "    <tr>\n",
       "      <th>2</th>\n",
       "      <td>-1.25</td>\n",
       "      <td>7.25</td>\n",
       "      <td>2006-01-03</td>\n",
       "      <td>299.891144</td>\n",
       "    </tr>\n",
       "    <tr>\n",
       "      <th>3</th>\n",
       "      <td>-1.25</td>\n",
       "      <td>7.25</td>\n",
       "      <td>2006-01-04</td>\n",
       "      <td>300.282806</td>\n",
       "    </tr>\n",
       "    <tr>\n",
       "      <th>4</th>\n",
       "      <td>-1.25</td>\n",
       "      <td>7.25</td>\n",
       "      <td>2006-01-05</td>\n",
       "      <td>300.742340</td>\n",
       "    </tr>\n",
       "    <tr>\n",
       "      <th>...</th>\n",
       "      <td>...</td>\n",
       "      <td>...</td>\n",
       "      <td>...</td>\n",
       "      <td>...</td>\n",
       "    </tr>\n",
       "    <tr>\n",
       "      <th>1821</th>\n",
       "      <td>-1.25</td>\n",
       "      <td>7.25</td>\n",
       "      <td>2010-12-27</td>\n",
       "      <td>297.477875</td>\n",
       "    </tr>\n",
       "    <tr>\n",
       "      <th>1822</th>\n",
       "      <td>-1.25</td>\n",
       "      <td>7.25</td>\n",
       "      <td>2010-12-28</td>\n",
       "      <td>297.118622</td>\n",
       "    </tr>\n",
       "    <tr>\n",
       "      <th>1823</th>\n",
       "      <td>-1.25</td>\n",
       "      <td>7.25</td>\n",
       "      <td>2010-12-29</td>\n",
       "      <td>296.725739</td>\n",
       "    </tr>\n",
       "    <tr>\n",
       "      <th>1824</th>\n",
       "      <td>-1.25</td>\n",
       "      <td>7.25</td>\n",
       "      <td>2010-12-30</td>\n",
       "      <td>296.484039</td>\n",
       "    </tr>\n",
       "    <tr>\n",
       "      <th>1825</th>\n",
       "      <td>-1.25</td>\n",
       "      <td>7.25</td>\n",
       "      <td>2010-12-31</td>\n",
       "      <td>296.691345</td>\n",
       "    </tr>\n",
       "  </tbody>\n",
       "</table>\n",
       "<p>1826 rows × 4 columns</p>\n",
       "</div>"
      ],
      "text/plain": [
       "       lon   lat       date  temperature\n",
       "0    -1.25  7.25 2006-01-01   299.798615\n",
       "1    -1.25  7.25 2006-01-02   300.162659\n",
       "2    -1.25  7.25 2006-01-03   299.891144\n",
       "3    -1.25  7.25 2006-01-04   300.282806\n",
       "4    -1.25  7.25 2006-01-05   300.742340\n",
       "...    ...   ...        ...          ...\n",
       "1821 -1.25  7.25 2010-12-27   297.477875\n",
       "1822 -1.25  7.25 2010-12-28   297.118622\n",
       "1823 -1.25  7.25 2010-12-29   296.725739\n",
       "1824 -1.25  7.25 2010-12-30   296.484039\n",
       "1825 -1.25  7.25 2010-12-31   296.691345\n",
       "\n",
       "[1826 rows x 4 columns]"
      ]
     },
     "execution_count": 135,
     "metadata": {},
     "output_type": "execute_result"
    }
   ],
   "source": [
    "df = df[[\"lon\", \"lat\", \"date\", \"temperature\"]]\n",
    "df"
   ]
  },
  {
   "cell_type": "code",
   "execution_count": 113,
   "metadata": {
    "ExecuteTime": {
     "end_time": "2020-04-15T17:37:05.745077Z",
     "start_time": "2020-04-15T17:37:05.736787Z"
    }
   },
   "outputs": [
    {
     "data": {
      "text/plain": [
       "temperature    302.439362\n",
       "Name: 2008-03-04 00:00:00, dtype: float64"
      ]
     },
     "execution_count": 113,
     "metadata": {},
     "output_type": "execute_result"
    }
   ],
   "source": [
    "df.loc[-1.25].loc[7.25].loc[\"2008-03-04\"]"
   ]
  },
  {
   "cell_type": "code",
   "execution_count": 119,
   "metadata": {
    "ExecuteTime": {
     "end_time": "2020-04-15T17:38:54.522135Z",
     "start_time": "2020-04-15T17:38:54.504788Z"
    }
   },
   "outputs": [
    {
     "data": {
      "text/html": [
       "<div>\n",
       "<style scoped>\n",
       "    .dataframe tbody tr th:only-of-type {\n",
       "        vertical-align: middle;\n",
       "    }\n",
       "\n",
       "    .dataframe tbody tr th {\n",
       "        vertical-align: top;\n",
       "    }\n",
       "\n",
       "    .dataframe thead th {\n",
       "        text-align: right;\n",
       "    }\n",
       "</style>\n",
       "<table border=\"1\" class=\"dataframe\">\n",
       "  <thead>\n",
       "    <tr style=\"text-align: right;\">\n",
       "      <th></th>\n",
       "      <th></th>\n",
       "      <th></th>\n",
       "      <th>temperature</th>\n",
       "    </tr>\n",
       "    <tr>\n",
       "      <th>lon</th>\n",
       "      <th>lat</th>\n",
       "      <th>date</th>\n",
       "      <th></th>\n",
       "    </tr>\n",
       "  </thead>\n",
       "  <tbody>\n",
       "    <tr>\n",
       "      <th rowspan=\"11\" valign=\"top\">-1.25</th>\n",
       "      <th rowspan=\"11\" valign=\"top\">7.25</th>\n",
       "      <th>2008-03-04</th>\n",
       "      <td>302.439362</td>\n",
       "    </tr>\n",
       "    <tr>\n",
       "      <th>2008-03-05</th>\n",
       "      <td>302.347748</td>\n",
       "    </tr>\n",
       "    <tr>\n",
       "      <th>2008-03-06</th>\n",
       "      <td>301.289948</td>\n",
       "    </tr>\n",
       "    <tr>\n",
       "      <th>2008-03-07</th>\n",
       "      <td>302.721039</td>\n",
       "    </tr>\n",
       "    <tr>\n",
       "      <th>2008-03-08</th>\n",
       "      <td>302.878632</td>\n",
       "    </tr>\n",
       "    <tr>\n",
       "      <th>...</th>\n",
       "      <td>...</td>\n",
       "    </tr>\n",
       "    <tr>\n",
       "      <th>2009-02-28</th>\n",
       "      <td>302.892548</td>\n",
       "    </tr>\n",
       "    <tr>\n",
       "      <th>2009-03-01</th>\n",
       "      <td>303.396515</td>\n",
       "    </tr>\n",
       "    <tr>\n",
       "      <th>2009-03-02</th>\n",
       "      <td>302.973572</td>\n",
       "    </tr>\n",
       "    <tr>\n",
       "      <th>2009-03-03</th>\n",
       "      <td>302.711700</td>\n",
       "    </tr>\n",
       "    <tr>\n",
       "      <th>2009-03-04</th>\n",
       "      <td>302.755310</td>\n",
       "    </tr>\n",
       "  </tbody>\n",
       "</table>\n",
       "<p>366 rows × 1 columns</p>\n",
       "</div>"
      ],
      "text/plain": [
       "                       temperature\n",
       "lon   lat  date                   \n",
       "-1.25 7.25 2008-03-04   302.439362\n",
       "           2008-03-05   302.347748\n",
       "           2008-03-06   301.289948\n",
       "           2008-03-07   302.721039\n",
       "           2008-03-08   302.878632\n",
       "...                            ...\n",
       "           2009-02-28   302.892548\n",
       "           2009-03-01   303.396515\n",
       "           2009-03-02   302.973572\n",
       "           2009-03-03   302.711700\n",
       "           2009-03-04   302.755310\n",
       "\n",
       "[366 rows x 1 columns]"
      ]
     },
     "execution_count": 119,
     "metadata": {},
     "output_type": "execute_result"
    }
   ],
   "source": [
    "df.loc[-1.25, 7.25, \"2008-03-04\":\"2009-03-04\"]"
   ]
  },
  {
   "cell_type": "code",
   "execution_count": 123,
   "metadata": {
    "ExecuteTime": {
     "end_time": "2020-04-15T17:39:37.471318Z",
     "start_time": "2020-04-15T17:39:37.461539Z"
    }
   },
   "outputs": [
    {
     "data": {
      "text/html": [
       "<div>\n",
       "<style scoped>\n",
       "    .dataframe tbody tr th:only-of-type {\n",
       "        vertical-align: middle;\n",
       "    }\n",
       "\n",
       "    .dataframe tbody tr th {\n",
       "        vertical-align: top;\n",
       "    }\n",
       "\n",
       "    .dataframe thead th {\n",
       "        text-align: right;\n",
       "    }\n",
       "</style>\n",
       "<table border=\"1\" class=\"dataframe\">\n",
       "  <thead>\n",
       "    <tr style=\"text-align: right;\">\n",
       "      <th></th>\n",
       "      <th></th>\n",
       "      <th></th>\n",
       "      <th>temperature</th>\n",
       "    </tr>\n",
       "    <tr>\n",
       "      <th>lon</th>\n",
       "      <th>lat</th>\n",
       "      <th>date</th>\n",
       "      <th></th>\n",
       "    </tr>\n",
       "  </thead>\n",
       "  <tbody>\n",
       "    <tr>\n",
       "      <th rowspan=\"5\" valign=\"top\">-1.25</th>\n",
       "      <th rowspan=\"5\" valign=\"top\">7.25</th>\n",
       "      <th>2010-12-27</th>\n",
       "      <td>297.477875</td>\n",
       "    </tr>\n",
       "    <tr>\n",
       "      <th>2010-12-28</th>\n",
       "      <td>297.118622</td>\n",
       "    </tr>\n",
       "    <tr>\n",
       "      <th>2010-12-29</th>\n",
       "      <td>296.725739</td>\n",
       "    </tr>\n",
       "    <tr>\n",
       "      <th>2010-12-30</th>\n",
       "      <td>296.484039</td>\n",
       "    </tr>\n",
       "    <tr>\n",
       "      <th>2010-12-31</th>\n",
       "      <td>296.691345</td>\n",
       "    </tr>\n",
       "  </tbody>\n",
       "</table>\n",
       "</div>"
      ],
      "text/plain": [
       "                       temperature\n",
       "lon   lat  date                   \n",
       "-1.25 7.25 2010-12-27   297.477875\n",
       "           2010-12-28   297.118622\n",
       "           2010-12-29   296.725739\n",
       "           2010-12-30   296.484039\n",
       "           2010-12-31   296.691345"
      ]
     },
     "execution_count": 123,
     "metadata": {},
     "output_type": "execute_result"
    }
   ],
   "source": [
    "df.tail()"
   ]
  },
  {
   "cell_type": "code",
   "execution_count": 124,
   "metadata": {
    "ExecuteTime": {
     "end_time": "2020-04-15T17:41:43.097780Z",
     "start_time": "2020-04-15T17:41:43.053478Z"
    }
   },
   "outputs": [],
   "source": [
    "# df.to_csv('tasday.csv', mode='a', header=False)\n",
    "df.to_csv(\"tasday.csv\")"
   ]
  },
  {
   "cell_type": "code",
   "execution_count": 127,
   "metadata": {
    "ExecuteTime": {
     "end_time": "2020-04-15T17:43:16.509117Z",
     "start_time": "2020-04-15T17:43:16.503191Z"
    }
   },
   "outputs": [
    {
     "name": "stdout",
     "output_type": "stream",
     "text": [
      "<class 'pandas.core.frame.DataFrame'>\n",
      "MultiIndex: 1826 entries, (-1.25, 7.25, Timestamp('2006-01-01 00:00:00')) to (-1.25, 7.25, Timestamp('2010-12-31 00:00:00'))\n",
      "Data columns (total 1 columns):\n",
      " #   Column       Non-Null Count  Dtype  \n",
      "---  ------       --------------  -----  \n",
      " 0   temperature  1826 non-null   float64\n",
      "dtypes: float64(1)\n",
      "memory usage: 196.0 KB\n"
     ]
    }
   ],
   "source": [
    "df.info()"
   ]
  },
  {
   "cell_type": "code",
   "execution_count": 131,
   "metadata": {
    "ExecuteTime": {
     "end_time": "2020-04-15T17:46:18.430634Z",
     "start_time": "2020-04-15T17:46:18.134631Z"
    }
   },
   "outputs": [
    {
     "data": {
      "text/plain": [
       "<matplotlib.axes._subplots.AxesSubplot at 0x12e3f59d0>"
      ]
     },
     "execution_count": 131,
     "metadata": {},
     "output_type": "execute_result"
    },
    {
     "data": {
      "image/png": "[encoded data removed]",
      "text/plain": [
       "<Figure size 432x288 with 1 Axes>"
      ]
     },
     "metadata": {},
     "output_type": "display_data"
    }
   ],
   "source": [
    "tasday = pd.read_csv(\"tasday.csv\")\n",
    "tasday = tasday.set_index([\"lon\", \"lat\", \"date\"])\n",
    "tasday.plot()"
   ]
  }
 ],
 "metadata": {
  "kernelspec": {
   "display_name": "Python [conda env:thresh]",
   "language": "python",
   "name": "conda-env-thresh-py"
  },
  "language_info": {
   "codemirror_mode": {
    "name": "ipython",
    "version": 3
   },
   "file_extension": ".py",
   "mimetype": "text/x-python",
   "name": "python",
   "nbconvert_exporter": "python",
   "pygments_lexer": "ipython3",
   "version": "3.7.7"
  },
  "toc": {
   "base_numbering": 1,
   "nav_menu": {},
   "number_sections": true,
   "sideBar": true,
   "skip_h1_title": false,
   "title_cell": "Table of Contents",
   "title_sidebar": "Contents",
   "toc_cell": false,
   "toc_position": {},
   "toc_section_display": true,
   "toc_window_display": false
  },
  "varInspector": {
   "cols": {
    "lenName": 16,
    "lenType": 16,
    "lenVar": 40
   },
   "kernels_config": {
    "python": {
     "delete_cmd_postfix": "",
     "delete_cmd_prefix": "del ",
     "library": "var_list.py",
     "varRefreshCmd": "print(var_dic_list())"
    },
    "r": {
     "delete_cmd_postfix": ") ",
     "delete_cmd_prefix": "rm(",
     "library": "var_list.r",
     "varRefreshCmd": "cat(var_dic_list()) "
    }
   },
   "types_to_exclude": [
    "module",
    "function",
    "builtin_function_or_method",
    "instance",
    "_Feature"
   ],
   "window_display": false
  }
 },
 "nbformat": 4,
 "nbformat_minor": 4
}
