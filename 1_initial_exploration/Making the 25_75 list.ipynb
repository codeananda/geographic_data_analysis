{
 "cells": [
  {
   "cell_type": "code",
   "execution_count": 120,
   "metadata": {
    "ExecuteTime": {
     "end_time": "2020-04-07T19:18:07.755638Z",
     "start_time": "2020-04-07T19:18:07.698104Z"
    }
   },
   "outputs": [
    {
     "data": {
      "text/html": [
       "<div>\n",
       "<style scoped>\n",
       "    .dataframe tbody tr th:only-of-type {\n",
       "        vertical-align: middle;\n",
       "    }\n",
       "\n",
       "    .dataframe tbody tr th {\n",
       "        vertical-align: top;\n",
       "    }\n",
       "\n",
       "    .dataframe thead th {\n",
       "        text-align: right;\n",
       "    }\n",
       "</style>\n",
       "<table border=\"1\" class=\"dataframe\">\n",
       "  <thead>\n",
       "    <tr style=\"text-align: right;\">\n",
       "      <th></th>\n",
       "      <th>ID_HDC_G0</th>\n",
       "      <th>GCPNT_LAT</th>\n",
       "      <th>GCPNT_LON</th>\n",
       "      <th>XC_NM_LST</th>\n",
       "      <th>XC_ISO_LST</th>\n",
       "      <th>GRGN_L1</th>\n",
       "      <th>GRGN_L2</th>\n",
       "      <th>UC_NM_MN</th>\n",
       "      <th>UC_NM_LST</th>\n",
       "      <th>P15</th>\n",
       "    </tr>\n",
       "  </thead>\n",
       "  <tbody>\n",
       "    <tr>\n",
       "      <th>0</th>\n",
       "      <td>5737</td>\n",
       "      <td>35.698462</td>\n",
       "      <td>51.227700</td>\n",
       "      <td>Iran</td>\n",
       "      <td>IRN</td>\n",
       "      <td>Asia</td>\n",
       "      <td>South-Central Asia</td>\n",
       "      <td>Tehran</td>\n",
       "      <td>Tehran; Karaj; Eslamshahr; Qods; Shahriyar</td>\n",
       "      <td>12515044.54</td>\n",
       "    </tr>\n",
       "    <tr>\n",
       "      <th>1</th>\n",
       "      <td>2125</td>\n",
       "      <td>6.567182</td>\n",
       "      <td>3.297388</td>\n",
       "      <td>Nigeria</td>\n",
       "      <td>NGA</td>\n",
       "      <td>Africa</td>\n",
       "      <td>Western Africa</td>\n",
       "      <td>Lagos</td>\n",
       "      <td>Lagos</td>\n",
       "      <td>11575042.53</td>\n",
       "    </tr>\n",
       "    <tr>\n",
       "      <th>2</th>\n",
       "      <td>11800</td>\n",
       "      <td>10.851848</td>\n",
       "      <td>106.712677</td>\n",
       "      <td>Vietnam</td>\n",
       "      <td>VNM</td>\n",
       "      <td>Asia</td>\n",
       "      <td>South-Eastern Asia</td>\n",
       "      <td>Ho Chi Minh City</td>\n",
       "      <td>Ho Chi Minh City; Thu Dau Mot City; Gia Dinh; ...</td>\n",
       "      <td>11488340.15</td>\n",
       "    </tr>\n",
       "    <tr>\n",
       "      <th>3</th>\n",
       "      <td>8050</td>\n",
       "      <td>13.020146</td>\n",
       "      <td>77.574697</td>\n",
       "      <td>India</td>\n",
       "      <td>IND</td>\n",
       "      <td>Asia</td>\n",
       "      <td>South-Central Asia</td>\n",
       "      <td>Bengaluru</td>\n",
       "      <td>Bengaluru</td>\n",
       "      <td>10631615.37</td>\n",
       "    </tr>\n",
       "    <tr>\n",
       "      <th>4</th>\n",
       "      <td>12430</td>\n",
       "      <td>23.429406</td>\n",
       "      <td>116.462477</td>\n",
       "      <td>China</td>\n",
       "      <td>CHN</td>\n",
       "      <td>Asia</td>\n",
       "      <td>Eastern Asia</td>\n",
       "      <td>Jieyang</td>\n",
       "      <td>Jieyang; Shantou; Chaozhou; Puning; Chaoyang; ...</td>\n",
       "      <td>10445183.08</td>\n",
       "    </tr>\n",
       "  </tbody>\n",
       "</table>\n",
       "</div>"
      ],
      "text/plain": [
       "   ID_HDC_G0  GCPNT_LAT   GCPNT_LON XC_NM_LST XC_ISO_LST GRGN_L1  \\\n",
       "0       5737  35.698462   51.227700      Iran        IRN    Asia   \n",
       "1       2125   6.567182    3.297388   Nigeria        NGA  Africa   \n",
       "2      11800  10.851848  106.712677   Vietnam        VNM    Asia   \n",
       "3       8050  13.020146   77.574697     India        IND    Asia   \n",
       "4      12430  23.429406  116.462477     China        CHN    Asia   \n",
       "\n",
       "              GRGN_L2          UC_NM_MN  \\\n",
       "0  South-Central Asia            Tehran   \n",
       "1      Western Africa             Lagos   \n",
       "2  South-Eastern Asia  Ho Chi Minh City   \n",
       "3  South-Central Asia         Bengaluru   \n",
       "4        Eastern Asia           Jieyang   \n",
       "\n",
       "                                           UC_NM_LST          P15  \n",
       "0         Tehran; Karaj; Eslamshahr; Qods; Shahriyar  12515044.54  \n",
       "1                                              Lagos  11575042.53  \n",
       "2  Ho Chi Minh City; Thu Dau Mot City; Gia Dinh; ...  11488340.15  \n",
       "3                                          Bengaluru  10631615.37  \n",
       "4  Jieyang; Shantou; Chaozhou; Puning; Chaoyang; ...  10445183.08  "
      ]
     },
     "execution_count": 120,
     "metadata": {},
     "output_type": "execute_result"
    }
   ],
   "source": [
    "import pandas as pd\n",
    "\n",
    "df = pd.read_csv(\"list.csv\")\n",
    "df.head()"
   ]
  },
  {
   "cell_type": "code",
   "execution_count": 126,
   "metadata": {
    "ExecuteTime": {
     "end_time": "2020-04-07T19:19:48.192779Z",
     "start_time": "2020-04-07T19:19:48.117064Z"
    },
    "scrolled": true
   },
   "outputs": [
    {
     "data": {
      "text/html": [
       "<div>\n",
       "<style scoped>\n",
       "    .dataframe tbody tr th:only-of-type {\n",
       "        vertical-align: middle;\n",
       "    }\n",
       "\n",
       "    .dataframe tbody tr th {\n",
       "        vertical-align: top;\n",
       "    }\n",
       "\n",
       "    .dataframe thead th {\n",
       "        text-align: right;\n",
       "    }\n",
       "</style>\n",
       "<table border=\"1\" class=\"dataframe\">\n",
       "  <thead>\n",
       "    <tr style=\"text-align: right;\">\n",
       "      <th></th>\n",
       "      <th>ID_HDC_G0</th>\n",
       "      <th>GCPNT_LAT</th>\n",
       "      <th>GCPNT_LON</th>\n",
       "      <th>XC_NM_LST</th>\n",
       "      <th>XC_ISO_LST</th>\n",
       "      <th>GRGN_L1</th>\n",
       "      <th>GRGN_L2</th>\n",
       "      <th>UC_NM_MN</th>\n",
       "      <th>UC_NM_LST</th>\n",
       "      <th>P15</th>\n",
       "      <th>lat_25_75</th>\n",
       "      <th>lon_25_75</th>\n",
       "    </tr>\n",
       "  </thead>\n",
       "  <tbody>\n",
       "    <tr>\n",
       "      <th>0</th>\n",
       "      <td>5737</td>\n",
       "      <td>35.698462</td>\n",
       "      <td>51.227700</td>\n",
       "      <td>Iran</td>\n",
       "      <td>IRN</td>\n",
       "      <td>Asia</td>\n",
       "      <td>South-Central Asia</td>\n",
       "      <td>Tehran</td>\n",
       "      <td>Tehran; Karaj; Eslamshahr; Qods; Shahriyar</td>\n",
       "      <td>12515044.54</td>\n",
       "      <td>35.75</td>\n",
       "      <td>51.25</td>\n",
       "    </tr>\n",
       "    <tr>\n",
       "      <th>1</th>\n",
       "      <td>2125</td>\n",
       "      <td>6.567182</td>\n",
       "      <td>3.297388</td>\n",
       "      <td>Nigeria</td>\n",
       "      <td>NGA</td>\n",
       "      <td>Africa</td>\n",
       "      <td>Western Africa</td>\n",
       "      <td>Lagos</td>\n",
       "      <td>Lagos</td>\n",
       "      <td>11575042.53</td>\n",
       "      <td>6.75</td>\n",
       "      <td>3.25</td>\n",
       "    </tr>\n",
       "    <tr>\n",
       "      <th>2</th>\n",
       "      <td>11800</td>\n",
       "      <td>10.851848</td>\n",
       "      <td>106.712677</td>\n",
       "      <td>Vietnam</td>\n",
       "      <td>VNM</td>\n",
       "      <td>Asia</td>\n",
       "      <td>South-Eastern Asia</td>\n",
       "      <td>Ho Chi Minh City</td>\n",
       "      <td>Ho Chi Minh City; Thu Dau Mot City; Gia Dinh; ...</td>\n",
       "      <td>11488340.15</td>\n",
       "      <td>10.75</td>\n",
       "      <td>106.75</td>\n",
       "    </tr>\n",
       "    <tr>\n",
       "      <th>3</th>\n",
       "      <td>8050</td>\n",
       "      <td>13.020146</td>\n",
       "      <td>77.574697</td>\n",
       "      <td>India</td>\n",
       "      <td>IND</td>\n",
       "      <td>Asia</td>\n",
       "      <td>South-Central Asia</td>\n",
       "      <td>Bengaluru</td>\n",
       "      <td>Bengaluru</td>\n",
       "      <td>10631615.37</td>\n",
       "      <td>13.25</td>\n",
       "      <td>77.75</td>\n",
       "    </tr>\n",
       "    <tr>\n",
       "      <th>4</th>\n",
       "      <td>12430</td>\n",
       "      <td>23.429406</td>\n",
       "      <td>116.462477</td>\n",
       "      <td>China</td>\n",
       "      <td>CHN</td>\n",
       "      <td>Asia</td>\n",
       "      <td>Eastern Asia</td>\n",
       "      <td>Jieyang</td>\n",
       "      <td>Jieyang; Shantou; Chaozhou; Puning; Chaoyang; ...</td>\n",
       "      <td>10445183.08</td>\n",
       "      <td>23.25</td>\n",
       "      <td>116.25</td>\n",
       "    </tr>\n",
       "  </tbody>\n",
       "</table>\n",
       "</div>"
      ],
      "text/plain": [
       "   ID_HDC_G0  GCPNT_LAT   GCPNT_LON XC_NM_LST XC_ISO_LST GRGN_L1  \\\n",
       "0       5737  35.698462   51.227700      Iran        IRN    Asia   \n",
       "1       2125   6.567182    3.297388   Nigeria        NGA  Africa   \n",
       "2      11800  10.851848  106.712677   Vietnam        VNM    Asia   \n",
       "3       8050  13.020146   77.574697     India        IND    Asia   \n",
       "4      12430  23.429406  116.462477     China        CHN    Asia   \n",
       "\n",
       "              GRGN_L2          UC_NM_MN  \\\n",
       "0  South-Central Asia            Tehran   \n",
       "1      Western Africa             Lagos   \n",
       "2  South-Eastern Asia  Ho Chi Minh City   \n",
       "3  South-Central Asia         Bengaluru   \n",
       "4        Eastern Asia           Jieyang   \n",
       "\n",
       "                                           UC_NM_LST          P15  lat_25_75  \\\n",
       "0         Tehran; Karaj; Eslamshahr; Qods; Shahriyar  12515044.54      35.75   \n",
       "1                                              Lagos  11575042.53       6.75   \n",
       "2  Ho Chi Minh City; Thu Dau Mot City; Gia Dinh; ...  11488340.15      10.75   \n",
       "3                                          Bengaluru  10631615.37      13.25   \n",
       "4  Jieyang; Shantou; Chaozhou; Puning; Chaoyang; ...  10445183.08      23.25   \n",
       "\n",
       "   lon_25_75  \n",
       "0      51.25  \n",
       "1       3.25  \n",
       "2     106.75  \n",
       "3      77.75  \n",
       "4     116.25  "
      ]
     },
     "execution_count": 126,
     "metadata": {},
     "output_type": "execute_result"
    }
   ],
   "source": [
    "df[\"lat_3dp\"] = pd.Series([\"{:.3f}\".format(round(n, 3)) for n in df[\"GCPNT_LAT\"]])\n",
    "df[\"lon_3dp\"] = pd.Series([\"{:.3f}\".format(round(n, 3)) for n in df[\"GCPNT_LON\"]])\n",
    "\n",
    "df[\"lat_25_75\"] = pd.Series([round_25_75(n) for n in df[\"lat_3dp\"]])\n",
    "df[\"lon_25_75\"] = pd.Series([round_25_75(n) for n in df[\"lon_3dp\"]])\n",
    "\n",
    "df = df.drop(columns=[\"lat_3dp\", \"lon_3dp\"])\n",
    "df.head()"
   ]
  },
  {
   "cell_type": "code",
   "execution_count": 127,
   "metadata": {
    "ExecuteTime": {
     "end_time": "2020-04-07T19:20:07.230504Z",
     "start_time": "2020-04-07T19:20:07.070504Z"
    }
   },
   "outputs": [],
   "source": [
    "df.to_csv(\"list_25_75.csv\")"
   ]
  },
  {
   "cell_type": "code",
   "execution_count": 83,
   "metadata": {
    "ExecuteTime": {
     "end_time": "2020-04-07T18:58:53.567566Z",
     "start_time": "2020-04-07T18:58:53.546740Z"
    }
   },
   "outputs": [
    {
     "data": {
      "text/plain": [
       "3    13113\n",
       "Name: lat_len, dtype: int64"
      ]
     },
     "execution_count": 83,
     "metadata": {},
     "output_type": "execute_result"
    }
   ],
   "source": [
    "def nums_after_decimal(n):\n",
    "    n = str(n)\n",
    "    point = n.find(\".\")\n",
    "    return len(n[point + 1 :])\n",
    "\n",
    "\n",
    "df[\"lat_len\"] = pd.Series([nums_after_decimal(n) for n in df[\"lat\"]])\n",
    "df.head()\n",
    "\n",
    "df.lat_len.value_counts()"
   ]
  },
  {
   "cell_type": "code",
   "execution_count": 95,
   "metadata": {
    "ExecuteTime": {
     "end_time": "2020-04-07T19:03:55.202696Z",
     "start_time": "2020-04-07T19:03:55.198695Z"
    }
   },
   "outputs": [],
   "source": [
    "def round_25_75(n):\n",
    "    \"\"\"\n",
    "    Given any number n, round it to either .25 or .75 (whichever is closest)\n",
    "    \"\"\"\n",
    "    point = n.find(\".\")\n",
    "    decimal = int(n[point + 1])\n",
    "\n",
    "    if decimal >= 5:\n",
    "        new_num = str(n)[:-3] + str(\"75\")\n",
    "        new_num = float(new_num)\n",
    "    else:\n",
    "        new_num = str(n)[:-3] + str(\"25\")\n",
    "        new_num = float(new_num)\n",
    "\n",
    "    return new_num"
   ]
  },
  {
   "cell_type": "code",
   "execution_count": 115,
   "metadata": {
    "ExecuteTime": {
     "end_time": "2020-04-07T19:14:14.219367Z",
     "start_time": "2020-04-07T19:14:14.216045Z"
    }
   },
   "outputs": [
    {
     "data": {
      "text/plain": [
       "-0.25"
      ]
     },
     "execution_count": 115,
     "metadata": {},
     "output_type": "execute_result"
    }
   ],
   "source": [
    "round_25_75(\"-0.100\")"
   ]
  },
  {
   "cell_type": "code",
   "execution_count": 7,
   "metadata": {
    "ExecuteTime": {
     "end_time": "2020-04-07T18:03:23.615540Z",
     "start_time": "2020-04-07T18:03:23.609293Z"
    }
   },
   "outputs": [
    {
     "data": {
      "text/plain": [
       "[1, 4, 9, 16, 25]"
      ]
     },
     "execution_count": 7,
     "metadata": {},
     "output_type": "execute_result"
    }
   ],
   "source": [
    "a = [1, 2, 3, 4, 5]\n",
    "b = [x**2 for x in a]\n",
    "b"
   ]
  },
  {
   "cell_type": "code",
   "execution_count": null,
   "metadata": {},
   "outputs": [],
   "source": [
    "c = "
   ]
  }
 ],
 "metadata": {
  "kernelspec": {
   "display_name": "Python 3",
   "language": "python",
   "name": "python3"
  },
  "language_info": {
   "codemirror_mode": {
    "name": "ipython",
    "version": 3
   },
   "file_extension": ".py",
   "mimetype": "text/x-python",
   "name": "python",
   "nbconvert_exporter": "python",
   "pygments_lexer": "ipython3",
   "version": "3.7.7"
  },
  "toc": {
   "base_numbering": 1,
   "nav_menu": {},
   "number_sections": true,
   "sideBar": true,
   "skip_h1_title": false,
   "title_cell": "Table of Contents",
   "title_sidebar": "Contents",
   "toc_cell": false,
   "toc_position": {},
   "toc_section_display": true,
   "toc_window_display": false
  },
  "varInspector": {
   "cols": {
    "lenName": 16,
    "lenType": 16,
    "lenVar": 40
   },
   "kernels_config": {
    "python": {
     "delete_cmd_postfix": "",
     "delete_cmd_prefix": "del ",
     "library": "var_list.py",
     "varRefreshCmd": "print(var_dic_list())"
    },
    "r": {
     "delete_cmd_postfix": ") ",
     "delete_cmd_prefix": "rm(",
     "library": "var_list.r",
     "varRefreshCmd": "cat(var_dic_list()) "
    }
   },
   "types_to_exclude": [
    "module",
    "function",
    "builtin_function_or_method",
    "instance",
    "_Feature"
   ],
   "window_display": false
  }
 },
 "nbformat": 4,
 "nbformat_minor": 4
}
